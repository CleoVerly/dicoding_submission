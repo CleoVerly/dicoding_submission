{
  "cells": [
    {
      "cell_type": "markdown",
      "metadata": {
        "id": "49E8-XAJDXLW"
      },
      "source": [
        "# Proyek Sistem Rekomendasi Game\n",
        "\n",
        "Nama: MUHAMMAD AGUSRIANSYAH\n",
        "\n",
        "Email: mc224d5y1338@student.devacademy.id\n",
        "\n",
        "ID Dicoding: mc224d5y1338"
      ]
    },
    {
      "cell_type": "markdown",
      "metadata": {
        "id": "MEUtoTMfFTOD"
      },
      "source": [
        "## Tahap 0: Persiapan (Setup)\n",
        "Di bagian ini, akan menginstal dan mengimpor semua library yang dibutuhkan untuk keseluruhan proyek."
      ]
    },
    {
      "cell_type": "code",
      "execution_count": 1,
      "metadata": {
        "colab": {
          "base_uri": "https://localhost:8080/"
        },
        "id": "OMw8tvrQC17v",
        "outputId": "d44ed344-aee6-4b89-8c37-439f0353d4f2"
      },
      "outputs": [
        {
          "name": "stdout",
          "output_type": "stream",
          "text": [
            "Semua library berhasil diimpor!\n"
          ]
        }
      ],
      "source": [
        "# Menginstal library yang diperlukan\n",
        "!pip install kagglehub -q\n",
        "\n",
        "# Mengimpor library\n",
        "import pandas as pd\n",
        "import seaborn as sns\n",
        "import matplotlib.pyplot as plt\n",
        "import kagglehub\n",
        "from kagglehub import KaggleDatasetAdapter\n",
        "from sklearn.feature_extraction.text import TfidfVectorizer\n",
        "from sklearn.metrics.pairwise import cosine_similarity\n",
        "\n",
        "print(\"Semua library berhasil diimpor!\")"
      ]
    },
    {
      "cell_type": "markdown",
      "metadata": {
        "id": "FY_qAkpHFt8V"
      },
      "source": [
        "## Tahap 1: Memuat Dataset dan Memahami Data (Data Understanding)\n",
        "\n",
        "Pada tahap ini, akan memuat dataset Steam Store Games dari Kaggle, memahami struktur data, melihat jumlah baris dan kolom, serta menampilkan beberapa sampel data. Dataset ini berisi informasi berbagai game yang tersedia di platform Steam, termasuk nama game, genre, tag, harga, dan tanggal rilisnya.\n",
        "\n",
        "Sumber dataset: [Steam Store Games - Kaggle](https://www.kaggle.com/datasets/nikdavis/steam-store-games)\n"
      ]
    },
    {
      "cell_type": "code",
      "execution_count": 2,
      "metadata": {
        "colab": {
          "base_uri": "https://localhost:8080/",
          "height": 608
        },
        "id": "KKghB_uMF8gn",
        "outputId": "78f0b111-9a98-4944-a4a0-6788d35ed60e"
      },
      "outputs": [
        {
          "name": "stderr",
          "output_type": "stream",
          "text": [
            "<ipython-input-2-04b5840af9c9>:9: DeprecationWarning: load_dataset is deprecated and will be removed in a future version.\n",
            "  df = kagglehub.load_dataset(\n"
          ]
        },
        {
          "name": "stdout",
          "output_type": "stream",
          "text": [
            "Jumlah baris dan kolom: (27075, 18)\n"
          ]
        },
        {
          "data": {
            "application/vnd.google.colaboratory.intrinsic+json": {
              "summary": "{\n  \"name\": \"df\",\n  \"rows\": 27075,\n  \"fields\": [\n    {\n      \"column\": \"appid\",\n      \"properties\": {\n        \"dtype\": \"number\",\n        \"std\": 250894,\n        \"min\": 10,\n        \"max\": 1069460,\n        \"num_unique_values\": 27075,\n        \"samples\": [\n          514520,\n          1012710,\n          279260\n        ],\n        \"semantic_type\": \"\",\n        \"description\": \"\"\n      }\n    },\n    {\n      \"column\": \"name\",\n      \"properties\": {\n        \"dtype\": \"string\",\n        \"num_unique_values\": 27033,\n        \"samples\": [\n          \"A Legionary's Life\",\n          \"Road Doom\",\n          \"Martha Madison: Simple Machines Volume 1\"\n        ],\n        \"semantic_type\": \"\",\n        \"description\": \"\"\n      }\n    },\n    {\n      \"column\": \"release_date\",\n      \"properties\": {\n        \"dtype\": \"object\",\n        \"num_unique_values\": 2619,\n        \"samples\": [\n          \"2017-11-30\",\n          \"2009-07-01\",\n          \"2015-07-09\"\n        ],\n        \"semantic_type\": \"\",\n        \"description\": \"\"\n      }\n    },\n    {\n      \"column\": \"english\",\n      \"properties\": {\n        \"dtype\": \"number\",\n        \"std\": 0,\n        \"min\": 0,\n        \"max\": 1,\n        \"num_unique_values\": 2,\n        \"samples\": [\n          0,\n          1\n        ],\n        \"semantic_type\": \"\",\n        \"description\": \"\"\n      }\n    },\n    {\n      \"column\": \"developer\",\n      \"properties\": {\n        \"dtype\": \"string\",\n        \"num_unique_values\": 17112,\n        \"samples\": [\n          \"Titan Studio\",\n          \"Startreming\"\n        ],\n        \"semantic_type\": \"\",\n        \"description\": \"\"\n      }\n    },\n    {\n      \"column\": \"publisher\",\n      \"properties\": {\n        \"dtype\": \"string\",\n        \"num_unique_values\": 14353,\n        \"samples\": [\n          \"Madowl Games\",\n          \"FunLimit\"\n        ],\n        \"semantic_type\": \"\",\n        \"description\": \"\"\n      }\n    },\n    {\n      \"column\": \"platforms\",\n      \"properties\": {\n        \"dtype\": \"category\",\n        \"num_unique_values\": 7,\n        \"samples\": [\n          \"windows;mac;linux\",\n          \"windows;mac\"\n        ],\n        \"semantic_type\": \"\",\n        \"description\": \"\"\n      }\n    },\n    {\n      \"column\": \"required_age\",\n      \"properties\": {\n        \"dtype\": \"number\",\n        \"std\": 2,\n        \"min\": 0,\n        \"max\": 18,\n        \"num_unique_values\": 6,\n        \"samples\": [\n          0,\n          18\n        ],\n        \"semantic_type\": \"\",\n        \"description\": \"\"\n      }\n    },\n    {\n      \"column\": \"categories\",\n      \"properties\": {\n        \"dtype\": \"category\",\n        \"num_unique_values\": 3333,\n        \"samples\": [\n          \"Single-player;Multi-player;Steam Achievements;Full controller support;Steam Cloud\",\n          \"Single-player;Local Multi-Player;Local Co-op;Steam Achievements;Steam Cloud\"\n        ],\n        \"semantic_type\": \"\",\n        \"description\": \"\"\n      }\n    },\n    {\n      \"column\": \"genres\",\n      \"properties\": {\n        \"dtype\": \"category\",\n        \"num_unique_values\": 1552,\n        \"samples\": [\n          \"Action;Adventure;Free to Play;Indie;Strategy\",\n          \"Action;Casual;Free to Play;Massively Multiplayer\"\n        ],\n        \"semantic_type\": \"\",\n        \"description\": \"\"\n      }\n    },\n    {\n      \"column\": \"steamspy_tags\",\n      \"properties\": {\n        \"dtype\": \"category\",\n        \"num_unique_values\": 6423,\n        \"samples\": [\n          \"Action;Platformer;Remake\",\n          \"Visual Novel;RPG;Indie\"\n        ],\n        \"semantic_type\": \"\",\n        \"description\": \"\"\n      }\n    },\n    {\n      \"column\": \"achievements\",\n      \"properties\": {\n        \"dtype\": \"number\",\n        \"std\": 352,\n        \"min\": 0,\n        \"max\": 9821,\n        \"num_unique_values\": 410,\n        \"samples\": [\n          102,\n          295\n        ],\n        \"semantic_type\": \"\",\n        \"description\": \"\"\n      }\n    },\n    {\n      \"column\": \"positive_ratings\",\n      \"properties\": {\n        \"dtype\": \"number\",\n        \"std\": 18988,\n        \"min\": 0,\n        \"max\": 2644404,\n        \"num_unique_values\": 2800,\n        \"samples\": [\n          2182,\n          286\n        ],\n        \"semantic_type\": \"\",\n        \"description\": \"\"\n      }\n    },\n    {\n      \"column\": \"negative_ratings\",\n      \"properties\": {\n        \"dtype\": \"number\",\n        \"std\": 4284,\n        \"min\": 0,\n        \"max\": 487076,\n        \"num_unique_values\": 1492,\n        \"samples\": [\n          1117,\n          1059\n        ],\n        \"semantic_type\": \"\",\n        \"description\": \"\"\n      }\n    },\n    {\n      \"column\": \"average_playtime\",\n      \"properties\": {\n        \"dtype\": \"number\",\n        \"std\": 1827,\n        \"min\": 0,\n        \"max\": 190625,\n        \"num_unique_values\": 1345,\n        \"samples\": [\n          141,\n          2990\n        ],\n        \"semantic_type\": \"\",\n        \"description\": \"\"\n      }\n    },\n    {\n      \"column\": \"median_playtime\",\n      \"properties\": {\n        \"dtype\": \"number\",\n        \"std\": 2353,\n        \"min\": 0,\n        \"max\": 190625,\n        \"num_unique_values\": 1312,\n        \"samples\": [\n          869,\n          846\n        ],\n        \"semantic_type\": \"\",\n        \"description\": \"\"\n      }\n    },\n    {\n      \"column\": \"owners\",\n      \"properties\": {\n        \"dtype\": \"category\",\n        \"num_unique_values\": 13,\n        \"samples\": [\n          \"200000-500000\",\n          \"50000-100000\"\n        ],\n        \"semantic_type\": \"\",\n        \"description\": \"\"\n      }\n    },\n    {\n      \"column\": \"price\",\n      \"properties\": {\n        \"dtype\": \"number\",\n        \"std\": 7.874922274392826,\n        \"min\": 0.0,\n        \"max\": 421.99,\n        \"num_unique_values\": 282,\n        \"samples\": [\n          4.65,\n          14.49\n        ],\n        \"semantic_type\": \"\",\n        \"description\": \"\"\n      }\n    }\n  ]\n}",
              "type": "dataframe",
              "variable_name": "df"
            },
            "text/html": [
              "\n",
              "  <div id=\"df-c5f1d8f2-492f-4c1d-bb32-0e1d71bbee3a\" class=\"colab-df-container\">\n",
              "    <div>\n",
              "<style scoped>\n",
              "    .dataframe tbody tr th:only-of-type {\n",
              "        vertical-align: middle;\n",
              "    }\n",
              "\n",
              "    .dataframe tbody tr th {\n",
              "        vertical-align: top;\n",
              "    }\n",
              "\n",
              "    .dataframe thead th {\n",
              "        text-align: right;\n",
              "    }\n",
              "</style>\n",
              "<table border=\"1\" class=\"dataframe\">\n",
              "  <thead>\n",
              "    <tr style=\"text-align: right;\">\n",
              "      <th></th>\n",
              "      <th>appid</th>\n",
              "      <th>name</th>\n",
              "      <th>release_date</th>\n",
              "      <th>english</th>\n",
              "      <th>developer</th>\n",
              "      <th>publisher</th>\n",
              "      <th>platforms</th>\n",
              "      <th>required_age</th>\n",
              "      <th>categories</th>\n",
              "      <th>genres</th>\n",
              "      <th>steamspy_tags</th>\n",
              "      <th>achievements</th>\n",
              "      <th>positive_ratings</th>\n",
              "      <th>negative_ratings</th>\n",
              "      <th>average_playtime</th>\n",
              "      <th>median_playtime</th>\n",
              "      <th>owners</th>\n",
              "      <th>price</th>\n",
              "    </tr>\n",
              "  </thead>\n",
              "  <tbody>\n",
              "    <tr>\n",
              "      <th>0</th>\n",
              "      <td>10</td>\n",
              "      <td>Counter-Strike</td>\n",
              "      <td>2000-11-01</td>\n",
              "      <td>1</td>\n",
              "      <td>Valve</td>\n",
              "      <td>Valve</td>\n",
              "      <td>windows;mac;linux</td>\n",
              "      <td>0</td>\n",
              "      <td>Multi-player;Online Multi-Player;Local Multi-P...</td>\n",
              "      <td>Action</td>\n",
              "      <td>Action;FPS;Multiplayer</td>\n",
              "      <td>0</td>\n",
              "      <td>124534</td>\n",
              "      <td>3339</td>\n",
              "      <td>17612</td>\n",
              "      <td>317</td>\n",
              "      <td>10000000-20000000</td>\n",
              "      <td>7.19</td>\n",
              "    </tr>\n",
              "    <tr>\n",
              "      <th>1</th>\n",
              "      <td>20</td>\n",
              "      <td>Team Fortress Classic</td>\n",
              "      <td>1999-04-01</td>\n",
              "      <td>1</td>\n",
              "      <td>Valve</td>\n",
              "      <td>Valve</td>\n",
              "      <td>windows;mac;linux</td>\n",
              "      <td>0</td>\n",
              "      <td>Multi-player;Online Multi-Player;Local Multi-P...</td>\n",
              "      <td>Action</td>\n",
              "      <td>Action;FPS;Multiplayer</td>\n",
              "      <td>0</td>\n",
              "      <td>3318</td>\n",
              "      <td>633</td>\n",
              "      <td>277</td>\n",
              "      <td>62</td>\n",
              "      <td>5000000-10000000</td>\n",
              "      <td>3.99</td>\n",
              "    </tr>\n",
              "    <tr>\n",
              "      <th>2</th>\n",
              "      <td>30</td>\n",
              "      <td>Day of Defeat</td>\n",
              "      <td>2003-05-01</td>\n",
              "      <td>1</td>\n",
              "      <td>Valve</td>\n",
              "      <td>Valve</td>\n",
              "      <td>windows;mac;linux</td>\n",
              "      <td>0</td>\n",
              "      <td>Multi-player;Valve Anti-Cheat enabled</td>\n",
              "      <td>Action</td>\n",
              "      <td>FPS;World War II;Multiplayer</td>\n",
              "      <td>0</td>\n",
              "      <td>3416</td>\n",
              "      <td>398</td>\n",
              "      <td>187</td>\n",
              "      <td>34</td>\n",
              "      <td>5000000-10000000</td>\n",
              "      <td>3.99</td>\n",
              "    </tr>\n",
              "    <tr>\n",
              "      <th>3</th>\n",
              "      <td>40</td>\n",
              "      <td>Deathmatch Classic</td>\n",
              "      <td>2001-06-01</td>\n",
              "      <td>1</td>\n",
              "      <td>Valve</td>\n",
              "      <td>Valve</td>\n",
              "      <td>windows;mac;linux</td>\n",
              "      <td>0</td>\n",
              "      <td>Multi-player;Online Multi-Player;Local Multi-P...</td>\n",
              "      <td>Action</td>\n",
              "      <td>Action;FPS;Multiplayer</td>\n",
              "      <td>0</td>\n",
              "      <td>1273</td>\n",
              "      <td>267</td>\n",
              "      <td>258</td>\n",
              "      <td>184</td>\n",
              "      <td>5000000-10000000</td>\n",
              "      <td>3.99</td>\n",
              "    </tr>\n",
              "    <tr>\n",
              "      <th>4</th>\n",
              "      <td>50</td>\n",
              "      <td>Half-Life: Opposing Force</td>\n",
              "      <td>1999-11-01</td>\n",
              "      <td>1</td>\n",
              "      <td>Gearbox Software</td>\n",
              "      <td>Valve</td>\n",
              "      <td>windows;mac;linux</td>\n",
              "      <td>0</td>\n",
              "      <td>Single-player;Multi-player;Valve Anti-Cheat en...</td>\n",
              "      <td>Action</td>\n",
              "      <td>FPS;Action;Sci-fi</td>\n",
              "      <td>0</td>\n",
              "      <td>5250</td>\n",
              "      <td>288</td>\n",
              "      <td>624</td>\n",
              "      <td>415</td>\n",
              "      <td>5000000-10000000</td>\n",
              "      <td>3.99</td>\n",
              "    </tr>\n",
              "  </tbody>\n",
              "</table>\n",
              "</div>\n",
              "    <div class=\"colab-df-buttons\">\n",
              "\n",
              "  <div class=\"colab-df-container\">\n",
              "    <button class=\"colab-df-convert\" onclick=\"convertToInteractive('df-c5f1d8f2-492f-4c1d-bb32-0e1d71bbee3a')\"\n",
              "            title=\"Convert this dataframe to an interactive table.\"\n",
              "            style=\"display:none;\">\n",
              "\n",
              "  <svg xmlns=\"http://www.w3.org/2000/svg\" height=\"24px\" viewBox=\"0 -960 960 960\">\n",
              "    <path d=\"M120-120v-720h720v720H120Zm60-500h600v-160H180v160Zm220 220h160v-160H400v160Zm0 220h160v-160H400v160ZM180-400h160v-160H180v160Zm440 0h160v-160H620v160ZM180-180h160v-160H180v160Zm440 0h160v-160H620v160Z\"/>\n",
              "  </svg>\n",
              "    </button>\n",
              "\n",
              "  <style>\n",
              "    .colab-df-container {\n",
              "      display:flex;\n",
              "      gap: 12px;\n",
              "    }\n",
              "\n",
              "    .colab-df-convert {\n",
              "      background-color: #E8F0FE;\n",
              "      border: none;\n",
              "      border-radius: 50%;\n",
              "      cursor: pointer;\n",
              "      display: none;\n",
              "      fill: #1967D2;\n",
              "      height: 32px;\n",
              "      padding: 0 0 0 0;\n",
              "      width: 32px;\n",
              "    }\n",
              "\n",
              "    .colab-df-convert:hover {\n",
              "      background-color: #E2EBFA;\n",
              "      box-shadow: 0px 1px 2px rgba(60, 64, 67, 0.3), 0px 1px 3px 1px rgba(60, 64, 67, 0.15);\n",
              "      fill: #174EA6;\n",
              "    }\n",
              "\n",
              "    .colab-df-buttons div {\n",
              "      margin-bottom: 4px;\n",
              "    }\n",
              "\n",
              "    [theme=dark] .colab-df-convert {\n",
              "      background-color: #3B4455;\n",
              "      fill: #D2E3FC;\n",
              "    }\n",
              "\n",
              "    [theme=dark] .colab-df-convert:hover {\n",
              "      background-color: #434B5C;\n",
              "      box-shadow: 0px 1px 3px 1px rgba(0, 0, 0, 0.15);\n",
              "      filter: drop-shadow(0px 1px 2px rgba(0, 0, 0, 0.3));\n",
              "      fill: #FFFFFF;\n",
              "    }\n",
              "  </style>\n",
              "\n",
              "    <script>\n",
              "      const buttonEl =\n",
              "        document.querySelector('#df-c5f1d8f2-492f-4c1d-bb32-0e1d71bbee3a button.colab-df-convert');\n",
              "      buttonEl.style.display =\n",
              "        google.colab.kernel.accessAllowed ? 'block' : 'none';\n",
              "\n",
              "      async function convertToInteractive(key) {\n",
              "        const element = document.querySelector('#df-c5f1d8f2-492f-4c1d-bb32-0e1d71bbee3a');\n",
              "        const dataTable =\n",
              "          await google.colab.kernel.invokeFunction('convertToInteractive',\n",
              "                                                    [key], {});\n",
              "        if (!dataTable) return;\n",
              "\n",
              "        const docLinkHtml = 'Like what you see? Visit the ' +\n",
              "          '<a target=\"_blank\" href=https://colab.research.google.com/notebooks/data_table.ipynb>data table notebook</a>'\n",
              "          + ' to learn more about interactive tables.';\n",
              "        element.innerHTML = '';\n",
              "        dataTable['output_type'] = 'display_data';\n",
              "        await google.colab.output.renderOutput(dataTable, element);\n",
              "        const docLink = document.createElement('div');\n",
              "        docLink.innerHTML = docLinkHtml;\n",
              "        element.appendChild(docLink);\n",
              "      }\n",
              "    </script>\n",
              "  </div>\n",
              "\n",
              "\n",
              "    <div id=\"df-e56b2cb6-a90f-4903-bc8a-e580a3d19e86\">\n",
              "      <button class=\"colab-df-quickchart\" onclick=\"quickchart('df-e56b2cb6-a90f-4903-bc8a-e580a3d19e86')\"\n",
              "                title=\"Suggest charts\"\n",
              "                style=\"display:none;\">\n",
              "\n",
              "<svg xmlns=\"http://www.w3.org/2000/svg\" height=\"24px\"viewBox=\"0 0 24 24\"\n",
              "     width=\"24px\">\n",
              "    <g>\n",
              "        <path d=\"M19 3H5c-1.1 0-2 .9-2 2v14c0 1.1.9 2 2 2h14c1.1 0 2-.9 2-2V5c0-1.1-.9-2-2-2zM9 17H7v-7h2v7zm4 0h-2V7h2v10zm4 0h-2v-4h2v4z\"/>\n",
              "    </g>\n",
              "</svg>\n",
              "      </button>\n",
              "\n",
              "<style>\n",
              "  .colab-df-quickchart {\n",
              "      --bg-color: #E8F0FE;\n",
              "      --fill-color: #1967D2;\n",
              "      --hover-bg-color: #E2EBFA;\n",
              "      --hover-fill-color: #174EA6;\n",
              "      --disabled-fill-color: #AAA;\n",
              "      --disabled-bg-color: #DDD;\n",
              "  }\n",
              "\n",
              "  [theme=dark] .colab-df-quickchart {\n",
              "      --bg-color: #3B4455;\n",
              "      --fill-color: #D2E3FC;\n",
              "      --hover-bg-color: #434B5C;\n",
              "      --hover-fill-color: #FFFFFF;\n",
              "      --disabled-bg-color: #3B4455;\n",
              "      --disabled-fill-color: #666;\n",
              "  }\n",
              "\n",
              "  .colab-df-quickchart {\n",
              "    background-color: var(--bg-color);\n",
              "    border: none;\n",
              "    border-radius: 50%;\n",
              "    cursor: pointer;\n",
              "    display: none;\n",
              "    fill: var(--fill-color);\n",
              "    height: 32px;\n",
              "    padding: 0;\n",
              "    width: 32px;\n",
              "  }\n",
              "\n",
              "  .colab-df-quickchart:hover {\n",
              "    background-color: var(--hover-bg-color);\n",
              "    box-shadow: 0 1px 2px rgba(60, 64, 67, 0.3), 0 1px 3px 1px rgba(60, 64, 67, 0.15);\n",
              "    fill: var(--button-hover-fill-color);\n",
              "  }\n",
              "\n",
              "  .colab-df-quickchart-complete:disabled,\n",
              "  .colab-df-quickchart-complete:disabled:hover {\n",
              "    background-color: var(--disabled-bg-color);\n",
              "    fill: var(--disabled-fill-color);\n",
              "    box-shadow: none;\n",
              "  }\n",
              "\n",
              "  .colab-df-spinner {\n",
              "    border: 2px solid var(--fill-color);\n",
              "    border-color: transparent;\n",
              "    border-bottom-color: var(--fill-color);\n",
              "    animation:\n",
              "      spin 1s steps(1) infinite;\n",
              "  }\n",
              "\n",
              "  @keyframes spin {\n",
              "    0% {\n",
              "      border-color: transparent;\n",
              "      border-bottom-color: var(--fill-color);\n",
              "      border-left-color: var(--fill-color);\n",
              "    }\n",
              "    20% {\n",
              "      border-color: transparent;\n",
              "      border-left-color: var(--fill-color);\n",
              "      border-top-color: var(--fill-color);\n",
              "    }\n",
              "    30% {\n",
              "      border-color: transparent;\n",
              "      border-left-color: var(--fill-color);\n",
              "      border-top-color: var(--fill-color);\n",
              "      border-right-color: var(--fill-color);\n",
              "    }\n",
              "    40% {\n",
              "      border-color: transparent;\n",
              "      border-right-color: var(--fill-color);\n",
              "      border-top-color: var(--fill-color);\n",
              "    }\n",
              "    60% {\n",
              "      border-color: transparent;\n",
              "      border-right-color: var(--fill-color);\n",
              "    }\n",
              "    80% {\n",
              "      border-color: transparent;\n",
              "      border-right-color: var(--fill-color);\n",
              "      border-bottom-color: var(--fill-color);\n",
              "    }\n",
              "    90% {\n",
              "      border-color: transparent;\n",
              "      border-bottom-color: var(--fill-color);\n",
              "    }\n",
              "  }\n",
              "</style>\n",
              "\n",
              "      <script>\n",
              "        async function quickchart(key) {\n",
              "          const quickchartButtonEl =\n",
              "            document.querySelector('#' + key + ' button');\n",
              "          quickchartButtonEl.disabled = true;  // To prevent multiple clicks.\n",
              "          quickchartButtonEl.classList.add('colab-df-spinner');\n",
              "          try {\n",
              "            const charts = await google.colab.kernel.invokeFunction(\n",
              "                'suggestCharts', [key], {});\n",
              "          } catch (error) {\n",
              "            console.error('Error during call to suggestCharts:', error);\n",
              "          }\n",
              "          quickchartButtonEl.classList.remove('colab-df-spinner');\n",
              "          quickchartButtonEl.classList.add('colab-df-quickchart-complete');\n",
              "        }\n",
              "        (() => {\n",
              "          let quickchartButtonEl =\n",
              "            document.querySelector('#df-e56b2cb6-a90f-4903-bc8a-e580a3d19e86 button');\n",
              "          quickchartButtonEl.style.display =\n",
              "            google.colab.kernel.accessAllowed ? 'block' : 'none';\n",
              "        })();\n",
              "      </script>\n",
              "    </div>\n",
              "\n",
              "    </div>\n",
              "  </div>\n"
            ],
            "text/plain": [
              "   appid                       name release_date  english         developer  \\\n",
              "0     10             Counter-Strike   2000-11-01        1             Valve   \n",
              "1     20      Team Fortress Classic   1999-04-01        1             Valve   \n",
              "2     30              Day of Defeat   2003-05-01        1             Valve   \n",
              "3     40         Deathmatch Classic   2001-06-01        1             Valve   \n",
              "4     50  Half-Life: Opposing Force   1999-11-01        1  Gearbox Software   \n",
              "\n",
              "  publisher          platforms  required_age  \\\n",
              "0     Valve  windows;mac;linux             0   \n",
              "1     Valve  windows;mac;linux             0   \n",
              "2     Valve  windows;mac;linux             0   \n",
              "3     Valve  windows;mac;linux             0   \n",
              "4     Valve  windows;mac;linux             0   \n",
              "\n",
              "                                          categories  genres  \\\n",
              "0  Multi-player;Online Multi-Player;Local Multi-P...  Action   \n",
              "1  Multi-player;Online Multi-Player;Local Multi-P...  Action   \n",
              "2              Multi-player;Valve Anti-Cheat enabled  Action   \n",
              "3  Multi-player;Online Multi-Player;Local Multi-P...  Action   \n",
              "4  Single-player;Multi-player;Valve Anti-Cheat en...  Action   \n",
              "\n",
              "                  steamspy_tags  achievements  positive_ratings  \\\n",
              "0        Action;FPS;Multiplayer             0            124534   \n",
              "1        Action;FPS;Multiplayer             0              3318   \n",
              "2  FPS;World War II;Multiplayer             0              3416   \n",
              "3        Action;FPS;Multiplayer             0              1273   \n",
              "4             FPS;Action;Sci-fi             0              5250   \n",
              "\n",
              "   negative_ratings  average_playtime  median_playtime             owners  \\\n",
              "0              3339             17612              317  10000000-20000000   \n",
              "1               633               277               62   5000000-10000000   \n",
              "2               398               187               34   5000000-10000000   \n",
              "3               267               258              184   5000000-10000000   \n",
              "4               288               624              415   5000000-10000000   \n",
              "\n",
              "   price  \n",
              "0   7.19  \n",
              "1   3.99  \n",
              "2   3.99  \n",
              "3   3.99  \n",
              "4   3.99  "
            ]
          },
          "execution_count": 2,
          "metadata": {},
          "output_type": "execute_result"
        }
      ],
      "source": [
        "# Tahap 1: Load dataset langsung dari Kaggle menggunakan KaggleHub\n",
        "from kagglehub import KaggleDatasetAdapter\n",
        "import kagglehub\n",
        "\n",
        "# Set path ke file CSV di dalam dataset\n",
        "file_path = \"steam.csv\"  # pastikan sesuai dengan nama file di Kaggle\n",
        "\n",
        "# Load dataset\n",
        "df = kagglehub.load_dataset(\n",
        "    KaggleDatasetAdapter.PANDAS,\n",
        "    \"nikdavis/steam-store-games\",\n",
        "    file_path\n",
        ")\n",
        "\n",
        "# Cek ukuran data dan tampilkan 5 baris pertama\n",
        "print(\"Jumlah baris dan kolom:\", df.shape)\n",
        "df.head()\n"
      ]
    },
    {
      "cell_type": "markdown",
      "metadata": {
        "id": "LvCichQYJ2Gu"
      },
      "source": [
        "### Struktur Data\n",
        "\n",
        "Berikut adalah penjelasan beberapa kolom penting dalam dataset Steam Store Games:\n",
        "\n",
        "- `appid` : ID unik untuk masing-masing game di Steam.\n",
        "- `name` : Nama game.\n",
        "- `release_date` : Tanggal rilis game.\n",
        "- `english` : Indikator apakah game mendukung bahasa Inggris (1: ya, 0: tidak).\n",
        "- `developer` : Nama pengembang game.\n",
        "- `publisher` : Nama penerbit game.\n",
        "- `platforms` : Platform yang didukung (misalnya: Windows, Mac, Linux).\n",
        "- `required_age` : Batas usia minimum untuk memainkan game.\n",
        "- `categories` : Kategori fitur game seperti Single-player, Multi-player, dll.\n",
        "- `genres` : Genre utama game (misalnya: Action, Adventure).\n",
        "- `steamspy_tags` : Tag tambahan terkait fitur dan konten (mirip genre, lebih granular).\n",
        "- `achievements` : Jumlah pencapaian (achievements) yang tersedia.\n",
        "- `positive_ratings` : Jumlah ulasan positif dari pemain.\n",
        "- `negative_ratings` : Jumlah ulasan negatif dari pemain.\n",
        "- `average_playtime` : Rata-rata waktu bermain (dalam menit).\n",
        "- `median_playtime` : Waktu bermain median (dalam menit).\n",
        "- `owners` : Perkiraan jumlah pemilik game (rentang).\n",
        "- `price` : Harga game (dalam USD).\n",
        "\n",
        "Selanjutnya, akan mengecek apakah terdapat nilai kosong (missing value) atau anomali pada data sebelum dilakukan pemodelan.\n"
      ]
    },
    {
      "cell_type": "code",
      "execution_count": 3,
      "metadata": {
        "colab": {
          "base_uri": "https://localhost:8080/"
        },
        "id": "tFHzcxEUKYph",
        "outputId": "df424ac2-9430-4f72-fe6a-a33596a945ca"
      },
      "outputs": [
        {
          "name": "stdout",
          "output_type": "stream",
          "text": [
            "Jumlah missing value per kolom:\n",
            "appid                0\n",
            "name                 0\n",
            "release_date         0\n",
            "english              0\n",
            "developer            1\n",
            "publisher           14\n",
            "platforms            0\n",
            "required_age         0\n",
            "categories           0\n",
            "genres               0\n",
            "steamspy_tags        0\n",
            "achievements         0\n",
            "positive_ratings     0\n",
            "negative_ratings     0\n",
            "average_playtime     0\n",
            "median_playtime      0\n",
            "owners               0\n",
            "price                0\n",
            "dtype: int64\n"
          ]
        }
      ],
      "source": [
        "# Cek missing values\n",
        "print(\"Jumlah missing value per kolom:\")\n",
        "print(df.isnull().sum())"
      ]
    },
    {
      "cell_type": "code",
      "execution_count": 4,
      "metadata": {
        "colab": {
          "base_uri": "https://localhost:8080/"
        },
        "id": "L6DCanIXKe6R",
        "outputId": "473ac26e-87c8-46a1-b025-25d27a5af915"
      },
      "outputs": [
        {
          "name": "stdout",
          "output_type": "stream",
          "text": [
            "\n",
            "Tipe data masing-masing kolom:\n",
            "appid                 int64\n",
            "name                 object\n",
            "release_date         object\n",
            "english               int64\n",
            "developer            object\n",
            "publisher            object\n",
            "platforms            object\n",
            "required_age          int64\n",
            "categories           object\n",
            "genres               object\n",
            "steamspy_tags        object\n",
            "achievements          int64\n",
            "positive_ratings      int64\n",
            "negative_ratings      int64\n",
            "average_playtime      int64\n",
            "median_playtime       int64\n",
            "owners               object\n",
            "price               float64\n",
            "dtype: object\n"
          ]
        }
      ],
      "source": [
        "# Cek tipe data\n",
        "print(\"\\nTipe data masing-masing kolom:\")\n",
        "print(df.dtypes)"
      ]
    },
    {
      "cell_type": "markdown",
      "metadata": {
        "id": "c1xe1PadK0iz"
      },
      "source": [
        "## Tahap 2: Data Preparation\n",
        "\n",
        "Setelah memahami struktur data, langkah berikutnya adalah menyiapkan data untuk pemodelan sistem rekomendasi. Tahapan ini meliputi:\n",
        "\n",
        "- Menghapus baris dengan nilai kosong pada kolom penting (`name`, `genres`, `steamspy_tags`).\n",
        "- Mengubah format `release_date` menjadi tipe datetime.\n",
        "- Menggabungkan kolom `genres`, `steamspy_tags`, dan `categories` menjadi satu kolom `content` untuk digunakan sebagai representasi fitur dalam pendekatan Content-Based Filtering.\n",
        "- Melakukan pengambilan sampel data (sampling) secara acak sebanyak 5.000 baris. Langkah ini diambil untuk mengatasi keterbatasan sumber daya komputasi (RAM) dan memastikan proses modeling dapat berjalan lancar tanpa kegagalan sistem."
      ]
    },
    {
      "cell_type": "code",
      "execution_count": 5,
      "metadata": {
        "id": "xRTJ_TL7K4c1"
      },
      "outputs": [],
      "source": [
        "# 1. Hapus baris yang tidak memiliki nilai penting (name, genres, tags)\n",
        "df = df.dropna(subset=['name', 'genres', 'steamspy_tags'])"
      ]
    },
    {
      "cell_type": "code",
      "execution_count": 6,
      "metadata": {
        "id": "fUhvMke2LWOx"
      },
      "outputs": [],
      "source": [
        "# 2. Ubah release_date menjadi format datetime\n",
        "df['release_date'] = pd.to_datetime(df['release_date'], errors='coerce')"
      ]
    },
    {
      "cell_type": "code",
      "execution_count": 7,
      "metadata": {
        "id": "AZLCfWWXLY5w"
      },
      "outputs": [],
      "source": [
        "# 3. Buat kolom baru \"content\" dari genres + tags + categories\n",
        "df['content'] = (\n",
        "    df['genres'].fillna('') + ' ' +\n",
        "    df['steamspy_tags'].fillna('') + ' ' +\n",
        "    df['categories'].fillna('')\n",
        ")"
      ]
    },
    {
      "cell_type": "code",
      "execution_count": 8,
      "metadata": {
        "id": "Azv9BnqeRhCZ"
      },
      "outputs": [],
      "source": [
        "# 4. Ambil sampel data (5000 game) agar proses lebih ringan\n",
        "df_final = df.sample(5000, random_state=42).reset_index(drop=True)"
      ]
    },
    {
      "cell_type": "code",
      "execution_count": 9,
      "metadata": {
        "colab": {
          "base_uri": "https://localhost:8080/",
          "height": 206
        },
        "id": "Npf4PI5mLbVp",
        "outputId": "40a93e87-ba92-4273-ff02-677b060aad38"
      },
      "outputs": [
        {
          "data": {
            "application/vnd.google.colaboratory.intrinsic+json": {
              "summary": "{\n  \"name\": \"df_final[['name', 'content']]\",\n  \"rows\": 5,\n  \"fields\": [\n    {\n      \"column\": \"name\",\n      \"properties\": {\n        \"dtype\": \"string\",\n        \"num_unique_values\": 5,\n        \"samples\": [\n          \"Endzeit\",\n          \"In The Long Run The Game\",\n          \"Richard & Alice\"\n        ],\n        \"semantic_type\": \"\",\n        \"description\": \"\"\n      }\n    },\n    {\n      \"column\": \"content\",\n      \"properties\": {\n        \"dtype\": \"string\",\n        \"num_unique_values\": 5,\n        \"samples\": [\n          \"Action;Early Access Early Access;Action;Violent Single-player;Multi-player;Co-op;Full controller support;Stats\",\n          \"Action;Adventure;Indie;Simulation;Strategy;Early Access Early Access;Simulation;Indie Single-player;Partial Controller Support\",\n          \"Adventure;Indie Adventure;Indie;Point & Click Single-player;Steam Achievements;Steam Trading Cards;Steam Cloud\"\n        ],\n        \"semantic_type\": \"\",\n        \"description\": \"\"\n      }\n    }\n  ]\n}",
              "type": "dataframe"
            },
            "text/html": [
              "\n",
              "  <div id=\"df-bcabc99b-0972-42cd-a41f-adafe06942fa\" class=\"colab-df-container\">\n",
              "    <div>\n",
              "<style scoped>\n",
              "    .dataframe tbody tr th:only-of-type {\n",
              "        vertical-align: middle;\n",
              "    }\n",
              "\n",
              "    .dataframe tbody tr th {\n",
              "        vertical-align: top;\n",
              "    }\n",
              "\n",
              "    .dataframe thead th {\n",
              "        text-align: right;\n",
              "    }\n",
              "</style>\n",
              "<table border=\"1\" class=\"dataframe\">\n",
              "  <thead>\n",
              "    <tr style=\"text-align: right;\">\n",
              "      <th></th>\n",
              "      <th>name</th>\n",
              "      <th>content</th>\n",
              "    </tr>\n",
              "  </thead>\n",
              "  <tbody>\n",
              "    <tr>\n",
              "      <th>0</th>\n",
              "      <td>Sparky's Hunt</td>\n",
              "      <td>Indie Indie;Horror Single-player</td>\n",
              "    </tr>\n",
              "    <tr>\n",
              "      <th>1</th>\n",
              "      <td>Endzeit</td>\n",
              "      <td>Action;Early Access Early Access;Action;Violen...</td>\n",
              "    </tr>\n",
              "    <tr>\n",
              "      <th>2</th>\n",
              "      <td>Richard &amp; Alice</td>\n",
              "      <td>Adventure;Indie Adventure;Indie;Point &amp; Click ...</td>\n",
              "    </tr>\n",
              "    <tr>\n",
              "      <th>3</th>\n",
              "      <td>The Journey Down: Chapter One</td>\n",
              "      <td>Adventure;Indie Adventure;Point &amp; Click;Indie ...</td>\n",
              "    </tr>\n",
              "    <tr>\n",
              "      <th>4</th>\n",
              "      <td>In The Long Run The Game</td>\n",
              "      <td>Action;Adventure;Indie;Simulation;Strategy;Ear...</td>\n",
              "    </tr>\n",
              "  </tbody>\n",
              "</table>\n",
              "</div>\n",
              "    <div class=\"colab-df-buttons\">\n",
              "\n",
              "  <div class=\"colab-df-container\">\n",
              "    <button class=\"colab-df-convert\" onclick=\"convertToInteractive('df-bcabc99b-0972-42cd-a41f-adafe06942fa')\"\n",
              "            title=\"Convert this dataframe to an interactive table.\"\n",
              "            style=\"display:none;\">\n",
              "\n",
              "  <svg xmlns=\"http://www.w3.org/2000/svg\" height=\"24px\" viewBox=\"0 -960 960 960\">\n",
              "    <path d=\"M120-120v-720h720v720H120Zm60-500h600v-160H180v160Zm220 220h160v-160H400v160Zm0 220h160v-160H400v160ZM180-400h160v-160H180v160Zm440 0h160v-160H620v160ZM180-180h160v-160H180v160Zm440 0h160v-160H620v160Z\"/>\n",
              "  </svg>\n",
              "    </button>\n",
              "\n",
              "  <style>\n",
              "    .colab-df-container {\n",
              "      display:flex;\n",
              "      gap: 12px;\n",
              "    }\n",
              "\n",
              "    .colab-df-convert {\n",
              "      background-color: #E8F0FE;\n",
              "      border: none;\n",
              "      border-radius: 50%;\n",
              "      cursor: pointer;\n",
              "      display: none;\n",
              "      fill: #1967D2;\n",
              "      height: 32px;\n",
              "      padding: 0 0 0 0;\n",
              "      width: 32px;\n",
              "    }\n",
              "\n",
              "    .colab-df-convert:hover {\n",
              "      background-color: #E2EBFA;\n",
              "      box-shadow: 0px 1px 2px rgba(60, 64, 67, 0.3), 0px 1px 3px 1px rgba(60, 64, 67, 0.15);\n",
              "      fill: #174EA6;\n",
              "    }\n",
              "\n",
              "    .colab-df-buttons div {\n",
              "      margin-bottom: 4px;\n",
              "    }\n",
              "\n",
              "    [theme=dark] .colab-df-convert {\n",
              "      background-color: #3B4455;\n",
              "      fill: #D2E3FC;\n",
              "    }\n",
              "\n",
              "    [theme=dark] .colab-df-convert:hover {\n",
              "      background-color: #434B5C;\n",
              "      box-shadow: 0px 1px 3px 1px rgba(0, 0, 0, 0.15);\n",
              "      filter: drop-shadow(0px 1px 2px rgba(0, 0, 0, 0.3));\n",
              "      fill: #FFFFFF;\n",
              "    }\n",
              "  </style>\n",
              "\n",
              "    <script>\n",
              "      const buttonEl =\n",
              "        document.querySelector('#df-bcabc99b-0972-42cd-a41f-adafe06942fa button.colab-df-convert');\n",
              "      buttonEl.style.display =\n",
              "        google.colab.kernel.accessAllowed ? 'block' : 'none';\n",
              "\n",
              "      async function convertToInteractive(key) {\n",
              "        const element = document.querySelector('#df-bcabc99b-0972-42cd-a41f-adafe06942fa');\n",
              "        const dataTable =\n",
              "          await google.colab.kernel.invokeFunction('convertToInteractive',\n",
              "                                                    [key], {});\n",
              "        if (!dataTable) return;\n",
              "\n",
              "        const docLinkHtml = 'Like what you see? Visit the ' +\n",
              "          '<a target=\"_blank\" href=https://colab.research.google.com/notebooks/data_table.ipynb>data table notebook</a>'\n",
              "          + ' to learn more about interactive tables.';\n",
              "        element.innerHTML = '';\n",
              "        dataTable['output_type'] = 'display_data';\n",
              "        await google.colab.output.renderOutput(dataTable, element);\n",
              "        const docLink = document.createElement('div');\n",
              "        docLink.innerHTML = docLinkHtml;\n",
              "        element.appendChild(docLink);\n",
              "      }\n",
              "    </script>\n",
              "  </div>\n",
              "\n",
              "\n",
              "    <div id=\"df-cce6d9f0-1733-42f1-8abc-40ad25b244f7\">\n",
              "      <button class=\"colab-df-quickchart\" onclick=\"quickchart('df-cce6d9f0-1733-42f1-8abc-40ad25b244f7')\"\n",
              "                title=\"Suggest charts\"\n",
              "                style=\"display:none;\">\n",
              "\n",
              "<svg xmlns=\"http://www.w3.org/2000/svg\" height=\"24px\"viewBox=\"0 0 24 24\"\n",
              "     width=\"24px\">\n",
              "    <g>\n",
              "        <path d=\"M19 3H5c-1.1 0-2 .9-2 2v14c0 1.1.9 2 2 2h14c1.1 0 2-.9 2-2V5c0-1.1-.9-2-2-2zM9 17H7v-7h2v7zm4 0h-2V7h2v10zm4 0h-2v-4h2v4z\"/>\n",
              "    </g>\n",
              "</svg>\n",
              "      </button>\n",
              "\n",
              "<style>\n",
              "  .colab-df-quickchart {\n",
              "      --bg-color: #E8F0FE;\n",
              "      --fill-color: #1967D2;\n",
              "      --hover-bg-color: #E2EBFA;\n",
              "      --hover-fill-color: #174EA6;\n",
              "      --disabled-fill-color: #AAA;\n",
              "      --disabled-bg-color: #DDD;\n",
              "  }\n",
              "\n",
              "  [theme=dark] .colab-df-quickchart {\n",
              "      --bg-color: #3B4455;\n",
              "      --fill-color: #D2E3FC;\n",
              "      --hover-bg-color: #434B5C;\n",
              "      --hover-fill-color: #FFFFFF;\n",
              "      --disabled-bg-color: #3B4455;\n",
              "      --disabled-fill-color: #666;\n",
              "  }\n",
              "\n",
              "  .colab-df-quickchart {\n",
              "    background-color: var(--bg-color);\n",
              "    border: none;\n",
              "    border-radius: 50%;\n",
              "    cursor: pointer;\n",
              "    display: none;\n",
              "    fill: var(--fill-color);\n",
              "    height: 32px;\n",
              "    padding: 0;\n",
              "    width: 32px;\n",
              "  }\n",
              "\n",
              "  .colab-df-quickchart:hover {\n",
              "    background-color: var(--hover-bg-color);\n",
              "    box-shadow: 0 1px 2px rgba(60, 64, 67, 0.3), 0 1px 3px 1px rgba(60, 64, 67, 0.15);\n",
              "    fill: var(--button-hover-fill-color);\n",
              "  }\n",
              "\n",
              "  .colab-df-quickchart-complete:disabled,\n",
              "  .colab-df-quickchart-complete:disabled:hover {\n",
              "    background-color: var(--disabled-bg-color);\n",
              "    fill: var(--disabled-fill-color);\n",
              "    box-shadow: none;\n",
              "  }\n",
              "\n",
              "  .colab-df-spinner {\n",
              "    border: 2px solid var(--fill-color);\n",
              "    border-color: transparent;\n",
              "    border-bottom-color: var(--fill-color);\n",
              "    animation:\n",
              "      spin 1s steps(1) infinite;\n",
              "  }\n",
              "\n",
              "  @keyframes spin {\n",
              "    0% {\n",
              "      border-color: transparent;\n",
              "      border-bottom-color: var(--fill-color);\n",
              "      border-left-color: var(--fill-color);\n",
              "    }\n",
              "    20% {\n",
              "      border-color: transparent;\n",
              "      border-left-color: var(--fill-color);\n",
              "      border-top-color: var(--fill-color);\n",
              "    }\n",
              "    30% {\n",
              "      border-color: transparent;\n",
              "      border-left-color: var(--fill-color);\n",
              "      border-top-color: var(--fill-color);\n",
              "      border-right-color: var(--fill-color);\n",
              "    }\n",
              "    40% {\n",
              "      border-color: transparent;\n",
              "      border-right-color: var(--fill-color);\n",
              "      border-top-color: var(--fill-color);\n",
              "    }\n",
              "    60% {\n",
              "      border-color: transparent;\n",
              "      border-right-color: var(--fill-color);\n",
              "    }\n",
              "    80% {\n",
              "      border-color: transparent;\n",
              "      border-right-color: var(--fill-color);\n",
              "      border-bottom-color: var(--fill-color);\n",
              "    }\n",
              "    90% {\n",
              "      border-color: transparent;\n",
              "      border-bottom-color: var(--fill-color);\n",
              "    }\n",
              "  }\n",
              "</style>\n",
              "\n",
              "      <script>\n",
              "        async function quickchart(key) {\n",
              "          const quickchartButtonEl =\n",
              "            document.querySelector('#' + key + ' button');\n",
              "          quickchartButtonEl.disabled = true;  // To prevent multiple clicks.\n",
              "          quickchartButtonEl.classList.add('colab-df-spinner');\n",
              "          try {\n",
              "            const charts = await google.colab.kernel.invokeFunction(\n",
              "                'suggestCharts', [key], {});\n",
              "          } catch (error) {\n",
              "            console.error('Error during call to suggestCharts:', error);\n",
              "          }\n",
              "          quickchartButtonEl.classList.remove('colab-df-spinner');\n",
              "          quickchartButtonEl.classList.add('colab-df-quickchart-complete');\n",
              "        }\n",
              "        (() => {\n",
              "          let quickchartButtonEl =\n",
              "            document.querySelector('#df-cce6d9f0-1733-42f1-8abc-40ad25b244f7 button');\n",
              "          quickchartButtonEl.style.display =\n",
              "            google.colab.kernel.accessAllowed ? 'block' : 'none';\n",
              "        })();\n",
              "      </script>\n",
              "    </div>\n",
              "\n",
              "    </div>\n",
              "  </div>\n"
            ],
            "text/plain": [
              "                            name  \\\n",
              "0                  Sparky's Hunt   \n",
              "1                        Endzeit   \n",
              "2                Richard & Alice   \n",
              "3  The Journey Down: Chapter One   \n",
              "4       In The Long Run The Game   \n",
              "\n",
              "                                             content  \n",
              "0                   Indie Indie;Horror Single-player  \n",
              "1  Action;Early Access Early Access;Action;Violen...  \n",
              "2  Adventure;Indie Adventure;Indie;Point & Click ...  \n",
              "3  Adventure;Indie Adventure;Point & Click;Indie ...  \n",
              "4  Action;Adventure;Indie;Simulation;Strategy;Ear...  "
            ]
          },
          "execution_count": 9,
          "metadata": {},
          "output_type": "execute_result"
        }
      ],
      "source": [
        "# Cek hasil gabungan\n",
        "df_final[['name', 'content']].head()"
      ]
    },
    {
      "cell_type": "markdown",
      "metadata": {
        "id": "8VRdrqRxLzPE"
      },
      "source": [
        "## Tahap 3: Modeling - Content-Based Filtering\n",
        "\n",
        "Sistem rekomendasi pada proyek ini menggunakan pendekatan Content-Based Filtering, yaitu mencari game yang mirip berdasarkan kemiripan kontennya (genre, kategori, dan tag).\n",
        "\n",
        "Langkah-langkah yang dilakukan adalah:\n",
        "\n",
        "1. Mengubah teks `content` menjadi representasi vektor menggunakan TF-IDF Vectorizer, tetapi di batasi fitur TF-IDF ke 5000 kata paling penting.\n",
        "2. Menghitung kesamaan antar game menggunakan Cosine Similarity.\n",
        "3. Membuat fungsi `recommend(game_name)` untuk menampilkan top-N game yang mirip dengan game input.\n"
      ]
    },
    {
      "cell_type": "code",
      "execution_count": 10,
      "metadata": {
        "id": "H5apTfA7L68t"
      },
      "outputs": [],
      "source": [
        "# 1. TF-IDF Vectorization\n",
        "tfidf = TfidfVectorizer(stop_words='english', max_features=5000)\n",
        "tfidf_matrix = tfidf.fit_transform(df_final['content'])"
      ]
    },
    {
      "cell_type": "code",
      "execution_count": 11,
      "metadata": {
        "id": "DoVGPbfXMKYH"
      },
      "outputs": [],
      "source": [
        "# 2. Cosine Similarity antar game\n",
        "cosine_sim = cosine_similarity(tfidf_matrix, tfidf_matrix)"
      ]
    },
    {
      "cell_type": "code",
      "execution_count": 12,
      "metadata": {
        "id": "T0epHCi_MMpn"
      },
      "outputs": [],
      "source": [
        "# 3. Buat indeks untuk lookup nama game\n",
        "indices = pd.Series(df_final.index, index=df_final['name']).drop_duplicates()"
      ]
    },
    {
      "cell_type": "code",
      "execution_count": 13,
      "metadata": {
        "id": "yWMJDfnfMPUi"
      },
      "outputs": [],
      "source": [
        "# 4. Fungsi rekomendasi\n",
        "def recommend(game_name, top_n=10):\n",
        "    # Cek apakah game ada di dalam data sampel kita\n",
        "    if game_name not in indices:\n",
        "        return f\"Game '{game_name}' tidak ditemukan di dalam data sampel.\"\n",
        "\n",
        "    idx = indices[game_name]\n",
        "    sim_scores = list(enumerate(cosine_sim[idx]))\n",
        "    sim_scores = sorted(sim_scores, key=lambda x: x[1], reverse=True)[1:top_n+1]\n",
        "    game_indices = [i[0] for i in sim_scores]\n",
        "\n",
        "    return df_final[['name', 'genres', 'steamspy_tags', 'price']].iloc[game_indices]\n"
      ]
    },
    {
      "cell_type": "markdown",
      "metadata": {
        "id": "BfIt_GxvM5e9"
      },
      "source": [
        "## Tahap 4: Evaluation\n",
        "\n",
        "Pada tahap ini, kita akan melakukan evaluasi terhadap model Content-Based Filtering yang telah dibuat. Metrik yang digunakan adalah **Precision@K**."
      ]
    },
    {
      "cell_type": "markdown",
      "metadata": {
        "id": "NDX_cuwKTY7f"
      },
      "source": [
        "### Precision@K\n",
        "Precision@K merupakan metrik yang mengukur proporsi item yang relevan dari sejumlah K item teratas yang direkomendasikan.  Dalam konteks proyek ini, sebuah game dianggap \"relevan\" jika memiliki setidaknya satu genre yang sama dengan game input.\n",
        "\n",
        "Formula dari metrik ini adalah:\n",
        "\n",
        "$$ \\text{Precision@K} = \\frac{\\text{Jumlah item relevan dalam top-K}}{\\text{K}} $$\n",
        "\n",
        "Sebagai contoh, jika merekomendasikan 10 game (K=10) dan 8 di antaranya memiliki genre yang sama dengan game input, maka presisi model adalah 80%.\n",
        "\n",
        "Berikut adalah hasil pengujian presisi pada salah satu game:"
      ]
    },
    {
      "cell_type": "code",
      "execution_count": 14,
      "metadata": {
        "id": "adj0l1YCT-zD"
      },
      "outputs": [],
      "source": [
        "def calculate_precision_at_k(input_game_name, recommendations, k=10):\n",
        "    # Ambil genre dari game input\n",
        "    input_game_genres = set(df_final[df_final['name'] == input_game_name]['genres'].iloc[0].split(';'))\n",
        "\n",
        "    if not recommendations.empty:\n",
        "        relevant_items = 0\n",
        "        # Loop sebanyak k rekomendasi teratas\n",
        "        for idx, row in recommendations.head(k).iterrows():\n",
        "            recommended_genres = set(row['genres'].split(';'))\n",
        "            # Cek apakah ada irisan (intersection) genre\n",
        "            if input_game_genres.intersection(recommended_genres):\n",
        "                relevant_items += 1\n",
        "\n",
        "        return relevant_items / k\n",
        "    return 0"
      ]
    },
    {
      "cell_type": "code",
      "execution_count": 15,
      "metadata": {
        "colab": {
          "base_uri": "https://localhost:8080/"
        },
        "id": "kyS2quwNUOy-",
        "outputId": "950d66c5-d70b-4560-9929-6ba366a95a1b"
      },
      "outputs": [
        {
          "name": "stdout",
          "output_type": "stream",
          "text": [
            "Game yang dipilih secara acak untuk diuji: Dragon's Dogma: Dark Arisen\n"
          ]
        }
      ],
      "source": [
        "# --- CONTOH PENGGUNAAN ---\n",
        "\n",
        "# 1. Pilih satu game secara acak dari dataset sampel Anda untuk diuji\n",
        "test_game_name = df_final['name'].sample(1).iloc[0]\n",
        "print(f\"Game yang dipilih secara acak untuk diuji: {test_game_name}\")"
      ]
    },
    {
      "cell_type": "code",
      "execution_count": 16,
      "metadata": {
        "id": "udXZDV4GUvIa"
      },
      "outputs": [],
      "source": [
        "# 2. Dapatkan rekomendasinya\n",
        "top_10_recommendations = recommend(test_game_name, top_n=10)"
      ]
    },
    {
      "cell_type": "code",
      "execution_count": 17,
      "metadata": {
        "id": "W0ydI0aVUyJy"
      },
      "outputs": [],
      "source": [
        "# 3. Hitung presisinya\n",
        "precision = calculate_precision_at_k(test_game_name, top_10_recommendations, k=10)"
      ]
    },
    {
      "cell_type": "code",
      "execution_count": 19,
      "metadata": {
        "colab": {
          "base_uri": "https://localhost:8080/"
        },
        "id": "GhHs-x8sU1t6",
        "outputId": "e4d34316-c16a-447a-db94-3b704308e315"
      },
      "outputs": [
        {
          "name": "stdout",
          "output_type": "stream",
          "text": [
            "Hasil rekomendasi untuk 'Dragon's Dogma: Dark Arisen':\n",
            "                                             name                      genres  \\\n",
            "1042                         Way of the Samurai 3            Action;Adventure   \n",
            "4918  The Elder Scrolls V: Skyrim Special Edition                         RPG   \n",
            "4791                                         ELEX        Action;Adventure;RPG   \n",
            "802                 Middle-earth™: Shadow of War™        Action;Adventure;RPG   \n",
            "4829                    Kingdom Come: Deliverance        Action;Adventure;RPG   \n",
            "382                              Sunset Overdrive            Action;Adventure   \n",
            "4006         Oceanhorn: Monster of Uncharted Seas  Action;Adventure;Indie;RPG   \n",
            "1558             Mount & Blade: With Fire & Sword                  Action;RPG   \n",
            "3856                               Drifting Lands            Action;Indie;RPG   \n",
            "3048                                 Phoning Home      Action;Adventure;Indie   \n",
            "\n",
            "                                 steamspy_tags  price  \n",
            "1042  Action;Adventure;Character Customization  14.99  \n",
            "4918                  Open World;RPG;Adventure  29.99  \n",
            "4791               RPG;Open World;Singleplayer  39.99  \n",
            "802                      Open World;Action;RPG  34.99  \n",
            "4829                   Medieval;Open World;RPG  29.99  \n",
            "382                Action;Adventure;Open World  14.99  \n",
            "4006                      Adventure;RPG;Action  10.99  \n",
            "1558                     RPG;Open World;Action   7.99  \n",
            "3856                          Indie;Action;RPG  13.99  \n",
            "3048             Adventure;Survival;Open World  14.99  \n"
          ]
        }
      ],
      "source": [
        "print(f\"Hasil rekomendasi untuk '{test_game_name}':\")\n",
        "print(top_10_recommendations)"
      ]
    },
    {
      "cell_type": "code",
      "execution_count": 20,
      "metadata": {
        "colab": {
          "base_uri": "https://localhost:8080/"
        },
        "id": "WZ_hqL9yU92E",
        "outputId": "e99dea28-7fd0-4dca-aa98-a1a3953dfa32"
      },
      "outputs": [
        {
          "name": "stdout",
          "output_type": "stream",
          "text": [
            "\n",
            "Precision@10 untuk game 'Dragon's Dogma: Dark Arisen' adalah: 100%\n"
          ]
        }
      ],
      "source": [
        "print(f\"\\nPrecision@10 untuk game '{test_game_name}' adalah: {precision:.0%}\")"
      ]
    },
    {
      "cell_type": "markdown",
      "metadata": {
        "id": "hm3EYMkrXLBG"
      },
      "source": [
        "### Interpretasi Hasil Evaluasi\n",
        "\n",
        "Dari hasil pengujian yang dijalankan pada game yang dipilih secara acak, yaitu 'Dragon's Dogma: Dark Arisen', didapatkan nilai **Precision@10 sebesar 100%**.\n",
        "\n",
        "Nilai ini menunjukkan bahwa dari 10 game teratas yang direkomendasikan oleh sistem, seluruhnya (10 dari 10) memiliki setidaknya satu genre yang sama dengan 'Dragon's Dogma: Dark Arisen'.\n",
        "\n",
        "Hasil presisi yang sangat tinggi ini mengindikasikan bahwa model *Content-Based Filtering* yang telah dibangun sangat efektif dalam menemukan dan merekomendasikan game dengan kemiripan konten yang relevan, sesuai dengan tujuan yang telah ditetapkan."
      ]
    }
  ],
  "metadata": {
    "colab": {
      "provenance": []
    },
    "kernelspec": {
      "display_name": "Python 3",
      "name": "python3"
    },
    "language_info": {
      "name": "python"
    }
  },
  "nbformat": 4,
  "nbformat_minor": 0
}
