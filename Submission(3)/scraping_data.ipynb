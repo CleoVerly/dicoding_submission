{
 "cells": [
  {
   "cell_type": "code",
   "execution_count": 15,
   "id": "7c4ede2e",
   "metadata": {},
   "outputs": [
    {
     "name": "stdout",
     "output_type": "stream",
     "text": [
      "Requirement already satisfied: google-play-scraper in c:\\users\\leviathans\\appdata\\local\\programs\\python\\python311\\lib\\site-packages (1.2.7)\n",
      "Requirement already satisfied: pandas in c:\\users\\leviathans\\appdata\\local\\programs\\python\\python311\\lib\\site-packages (2.2.2)\n",
      "Requirement already satisfied: numpy>=1.23.2 in c:\\users\\leviathans\\appdata\\local\\programs\\python\\python311\\lib\\site-packages (from pandas) (1.26.4)\n",
      "Requirement already satisfied: python-dateutil>=2.8.2 in c:\\users\\leviathans\\appdata\\local\\programs\\python\\python311\\lib\\site-packages (from pandas) (2.8.2)\n",
      "Requirement already satisfied: pytz>=2020.1 in c:\\users\\leviathans\\appdata\\local\\programs\\python\\python311\\lib\\site-packages (from pandas) (2024.1)\n",
      "Requirement already satisfied: tzdata>=2022.7 in c:\\users\\leviathans\\appdata\\local\\programs\\python\\python311\\lib\\site-packages (from pandas) (2024.1)\n",
      "Requirement already satisfied: six>=1.5 in c:\\users\\leviathans\\appdata\\local\\programs\\python\\python311\\lib\\site-packages (from python-dateutil>=2.8.2->pandas) (1.16.0)\n",
      "Note: you may need to restart the kernel to use updated packages.\n"
     ]
    }
   ],
   "source": [
    "pip install google-play-scraper pandas"
   ]
  },
  {
   "cell_type": "markdown",
   "id": "99d7e89f",
   "metadata": {},
   "source": [
    "## Library"
   ]
  },
  {
   "cell_type": "code",
   "execution_count": 40,
   "id": "8f7540b9",
   "metadata": {},
   "outputs": [],
   "source": [
    "import nltk\n",
    "nltk.data.path.append(r'C:\\Users\\Leviathans\\AppData\\Local\\Programs\\Python\\Python311\\lib\\nltk_data')"
   ]
  },
  {
   "cell_type": "code",
   "execution_count": 41,
   "id": "16233573",
   "metadata": {},
   "outputs": [],
   "source": [
    "from google_play_scraper import reviews, Sort\n",
    "import pandas as pd\n",
    "import re\n",
    "import string\n",
    "import emoji\n",
    "from nltk.corpus import stopwords\n",
    "from Sastrawi.Stemmer.StemmerFactory import StemmerFactory\n",
    "from better_profanity import profanity\n",
    "from nltk.tokenize import word_tokenize\n",
    "import re"
   ]
  },
  {
   "cell_type": "markdown",
   "id": "87ac3304",
   "metadata": {},
   "source": [
    "## Import Data"
   ]
  },
  {
   "cell_type": "code",
   "execution_count": 42,
   "id": "917d4888",
   "metadata": {},
   "outputs": [],
   "source": [
    "# package name game-nya\n",
    "app_package_name = 'com.netmarble.sololv'\n",
    "\n",
    "# Ambil review\n",
    "result, _ = reviews(\n",
    "    app_package_name,\n",
    "    lang='en',\n",
    "    country='us',\n",
    "    sort=Sort.NEWEST,\n",
    "    count=30000  # Target ulasan\n",
    ")"
   ]
  },
  {
   "cell_type": "code",
   "execution_count": 43,
   "id": "b33a6bb5",
   "metadata": {},
   "outputs": [],
   "source": [
    "df = pd.DataFrame(result)"
   ]
  },
  {
   "cell_type": "code",
   "execution_count": 44,
   "id": "77e82211",
   "metadata": {},
   "outputs": [
    {
     "name": "stdout",
     "output_type": "stream",
     "text": [
      "Index(['reviewId', 'userName', 'userImage', 'content', 'score',\n",
      "       'thumbsUpCount', 'reviewCreatedVersion', 'at', 'replyContent',\n",
      "       'repliedAt', 'appVersion'],\n",
      "      dtype='object')\n"
     ]
    }
   ],
   "source": [
    "print(df.columns)"
   ]
  },
  {
   "cell_type": "code",
   "execution_count": 45,
   "id": "91436c1b",
   "metadata": {},
   "outputs": [
    {
     "name": "stdout",
     "output_type": "stream",
     "text": [
      "Jumlah data: 30000\n"
     ]
    }
   ],
   "source": [
    "print(f\"Jumlah data: {len(result)}\")\n"
   ]
  },
  {
   "cell_type": "code",
   "execution_count": 46,
   "id": "7484be99",
   "metadata": {},
   "outputs": [],
   "source": [
    "# DataFrame\n",
    "df = df[['userName', 'content', 'score', 'at']]\n",
    "df.rename(columns={\n",
    "    'userName': 'pengguna',\n",
    "    'content': 'ulasan',\n",
    "    'score': 'rating',\n",
    "    'at': 'tanggal'\n",
    "}, inplace=True)\n",
    "\n",
    "# Simpan DataFrame ke CSV\n",
    "df.to_csv('output_sentimen.csv', index=False, encoding='utf-8')\n"
   ]
  },
  {
   "cell_type": "code",
   "execution_count": 176,
   "id": "893f601f",
   "metadata": {},
   "outputs": [],
   "source": [
    "!pip freeze > requirements.txt\n"
   ]
  }
 ],
 "metadata": {
  "kernelspec": {
   "display_name": "Python 3",
   "language": "python",
   "name": "python3"
  },
  "language_info": {
   "codemirror_mode": {
    "name": "ipython",
    "version": 3
   },
   "file_extension": ".py",
   "mimetype": "text/x-python",
   "name": "python",
   "nbconvert_exporter": "python",
   "pygments_lexer": "ipython3",
   "version": "3.11.2"
  }
 },
 "nbformat": 4,
 "nbformat_minor": 5
}
